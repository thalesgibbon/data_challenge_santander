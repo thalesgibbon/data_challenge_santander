{
    "cells": [
        {
            "metadata": {},
            "cell_type": "code",
            "source": "#importa as bibliotecas\nimport requests\nfrom lxml import html\nfrom numpy import nan, nanmin, all, isnan",
            "execution_count": 1,
            "outputs": []
        },
        {
            "metadata": {},
            "cell_type": "code",
            "source": "# confere o menor numero que nao seja nulo\ndef clean_nanmin(s):\n    if all(isnan(s)):\n        return nan\n    return nanmin(s)",
            "execution_count": 2,
            "outputs": []
        },
        {
            "metadata": {},
            "cell_type": "code",
            "source": "# lista as possibilidades de siglas http que podem aparecer\ndef input_urls(find_site):\n    find_list = ['https://', 'http://', 'https://www.', 'http://www.']\n    find_list = [x+find_site for x in find_list]\n    return find_list",
            "execution_count": 3,
            "outputs": []
        },
        {
            "metadata": {},
            "cell_type": "code",
            "source": "# faz a requisicao no google e extrai o html com as urls da pesquisa\ndef urls_extract(_search, _page=0):\n    search_t = _search.replace(' ', '+')\n    n_sites = 10\n    url = f'https://www.google.com/search?q={search_t}&start={n_sites*_page}'\n    page = requests.get(url)\n    tree = html.fromstring(page.content)\n    only_url = tree.xpath('//a')\n    url_pages = [dict(x.items())['href'] for x in only_url]\n    url_pages = [x for x in url_pages if x[0:7] == '/url?q=']\n    return url_pages",
            "execution_count": 4,
            "outputs": []
        },
        {
            "metadata": {},
            "cell_type": "code",
            "source": "# valida se a url da pesquisa bate com o site do cliente e o menor indice que deu match\ndef first_index(_urls, _google_return):\n    index_list = []\n    for find_list_value in _urls:\n        find_list_value_slice = [x[7:7+len(find_list_value)] for x in _google_return]\n        if find_list_value in find_list_value_slice:\n            index_num = find_list_value_slice.index(find_list_value)\n            index_num += 1\n        else:\n            index_num = nan\n        index_list.append(index_num)\n    min_index = clean_nanmin(index_list)\n    min_index = int(min_index) if min_index > 0 else min_index\n    return min_index",
            "execution_count": 5,
            "outputs": []
        },
        {
            "metadata": {},
            "cell_type": "code",
            "source": "# faz a busca paginado ate encontrar o site do cliente\ndef reload(domain, store_name):\n    urls = input_urls(domain)\n    n_index = nan\n    google_page = 0\n    for google_page in range(5):\n        google_return = urls_extract(store_name, google_page)\n        n_index = first_index(urls, google_return)\n        if n_index > 0:\n            break\n    n_index = n_index + google_page*10 if n_index > 0 else nan\n    google_page = google_page + 1 if n_index > 0 else nan\n\n    if n_index > 0:\n        print(f'[SUCCESS] Your index domain on Google is : {n_index} (page: {google_page})')\n    else:\n        print('[ERROR] Domain not found on Google ')",
            "execution_count": 6,
            "outputs": []
        },
        {
            "metadata": {},
            "cell_type": "markdown",
            "source": " "
        },
        {
            "metadata": {},
            "cell_type": "markdown",
            "source": "Exemplo de cliente no segmento tech:"
        },
        {
            "metadata": {},
            "cell_type": "code",
            "source": "#primeiro teste de um site conhecido pelo desenvolvedor para homologacao\n#o site do cliente nao foi encontrado pesquisando por palavras genericas\nreload(domain='draftbr.com', store_name='Futebol Americano')",
            "execution_count": 9,
            "outputs": [
                {
                    "output_type": "stream",
                    "text": "[ERROR] Domain not found on Google \n",
                    "name": "stdout"
                }
            ]
        },
        {
            "metadata": {},
            "cell_type": "code",
            "source": "# fazendo uma busca por palavras mais coerentes do site do cliente\nreload(domain='draftbr.com', store_name='Draftbr futebol americano')",
            "execution_count": 11,
            "outputs": [
                {
                    "output_type": "stream",
                    "text": "[SUCCESS] Your index domain on Google is : 4 (pagina: 1)\n",
                    "name": "stdout"
                }
            ]
        },
        {
            "metadata": {},
            "cell_type": "code",
            "source": "#pesquisando pelo nome completo do site do cliente\n#encontrado no index 3 da primeira pagina\n#portanto pode ser realizado um trabalho melhor para aumentar o index do cliente\nreload(domain='draftbr.com', store_name='Plataforma Draftbr Futebol Americano')",
            "execution_count": 8,
            "outputs": [
                {
                    "output_type": "stream",
                    "text": "[SUCCESS] Your index domain on Google is : 3 (pagina: 1)\n",
                    "name": "stdout"
                }
            ]
        },
        {
            "metadata": {},
            "cell_type": "markdown",
            "source": " "
        },
        {
            "metadata": {},
            "cell_type": "markdown",
            "source": "Exemplo de cliente no ramo do varejo:"
        },
        {
            "metadata": {},
            "cell_type": "code",
            "source": "reload(domain='lojasestrela.com.br', store_name='Loja estrela')",
            "execution_count": 14,
            "outputs": [
                {
                    "output_type": "stream",
                    "text": "[SUCCESS] Your index domain on Google is : 12 (pagina: 1)\n",
                    "name": "stdout"
                }
            ]
        },
        {
            "metadata": {},
            "cell_type": "code",
            "source": "reload(domain='lojasestrela.com.br', store_name='Loja estrela Joanopolis SP')",
            "execution_count": 15,
            "outputs": [
                {
                    "output_type": "stream",
                    "text": "[SUCCESS] Your index domain on Google is : 3 (pagina: 1)\n",
                    "name": "stdout"
                }
            ]
        }
    ],
    "metadata": {
        "kernelspec": {
            "name": "python3",
            "display_name": "Python 3.6",
            "language": "python"
        },
        "language_info": {
            "name": "python",
            "version": "3.6.9",
            "mimetype": "text/x-python",
            "codemirror_mode": {
                "name": "ipython",
                "version": 3
            },
            "pygments_lexer": "ipython3",
            "nbconvert_exporter": "python",
            "file_extension": ".py"
        }
    },
    "nbformat": 4,
    "nbformat_minor": 1
}