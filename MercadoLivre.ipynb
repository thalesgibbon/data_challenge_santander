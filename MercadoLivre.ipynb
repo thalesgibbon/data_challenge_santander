{
    "cells": [
        {
            "cell_type": "code",
            "execution_count": 1,
            "metadata": {},
            "outputs": [],
            "source": "from bs4 import BeautifulSoup\nfrom urllib.request import urlopen\nimport requests\nfrom numpy import nan"
        },
        {
            "cell_type": "code",
            "execution_count": 2,
            "metadata": {},
            "outputs": [],
            "source": "# funcao que busca o produto no site do mercado livre para entregar a ordem para o cliente\ndef lista_vendedores_produto(nome_produto, num_paginas=3):\n    pagina_pesquisa = [\"\", \"_Desde_49\", \"_Desde_97\", \"_Desde_145\", \"_Desde_193\", \"_Desde_241\", \"_Desde_289\", \"_Desde_337\", \"_Desde_385\", \"_Desde_433\"]\n    \n    lista_lojas = []\n    for i in range(num_paginas):\n        url_inicial = 'https://lista.mercadolivre.com.br/' + nome_produto + pagina_pesquisa[i]\n        html_content = requests.get(url_inicial).text\n        soup = BeautifulSoup(html_content, \"html\")\n\n        url_list = []\n        for ul in soup.find_all(\"ol\", {\"id\": \"searchResults\"}):\n            for li in ul.find_all('li'):\n                a = li.find('a')\n                if a != None:\n                   url_list.append(a['href'])\n\n        #remove duplciates        \n        url_list = url_list[1::2]\n\n        for link in url_list:\n            html_content = requests.get(link).text\n            soup = BeautifulSoup(html_content, \"html\")\n            a = soup.find(\"a\", {\"id\": \"seller-view-more-link\"})\n            \n            if a != None:\n                html_content = requests.get(a[\"href\"]).text\n                soup = BeautifulSoup(html_content, \"html\")\n                h3= soup.find(\"h3\", {\"id\": \"store-info__name\"})\n                if h3 != None:\n                    lista_lojas.append(h3.text)\n                    \n    lista_lojas = list(dict.fromkeys(lista_lojas))\n\n    return lista_lojas\n"
        },
        {
            "cell_type": "code",
            "execution_count": 3,
            "metadata": {},
            "outputs": [],
            "source": "# identifica a ordem do cliente na lista de produtos\ndef reload(store_name, product):\n    lista_lojas = lista_vendedores_produto(product)\n    if store_name in lista_lojas:\n        n_index = lista_lojas.index(store_name)\n        n_index = n_index + 1 if n_index > 0 else nan\n    else:\n        n_index = nan\n\n    if n_index > 0:\n        print(f'[SUCCESS] Your index domain on MercadoLivre is : {n_index}')\n    else:\n        print('[ERROR] Domain not found on MercadoLivre ')"
        },
        {
            "cell_type": "code",
            "execution_count": 4,
            "metadata": {},
            "outputs": [
                {
                    "name": "stdout",
                    "output_type": "stream",
                    "text": "[SUCCESS] Your index domain on MercadoLivre is : 4\n"
                }
            ],
            "source": "# teste de do cliente SARCOMPY para o produto mp3\nreload('SARCOMPY', 'mp3')"
        },
        {
            "cell_type": "code",
            "execution_count": 5,
            "metadata": {},
            "outputs": [
                {
                    "name": "stdout",
                    "output_type": "stream",
                    "text": "[ERROR] Domain not found on MercadoLivre \n"
                }
            ],
            "source": "# teste de do cliente LOJA DO ZEZIN para o produto mp3\nreload('LOJA DO ZEZIN', 'mp3')"
        }
    ],
    "metadata": {
        "kernelspec": {
            "display_name": "Python 3.6",
            "language": "python",
            "name": "python3"
        },
        "language_info": {
            "codemirror_mode": {
                "name": "ipython",
                "version": 3
            },
            "file_extension": ".py",
            "mimetype": "text/x-python",
            "name": "python",
            "nbconvert_exporter": "python",
            "pygments_lexer": "ipython3",
            "version": "3.6.9"
        }
    },
    "nbformat": 4,
    "nbformat_minor": 1
}