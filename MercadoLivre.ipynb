{
    "cells": [
        {
            "cell_type": "code",
            "execution_count": 33,
            "metadata": {},
            "outputs": [],
            "source": "#Fun\u00e7\u00e3o que procura um produto no mercado livre e retorna a lista de lojas na ordem que aparecem\ndef lista_vendedores_produto(nome_produto, lista_lojas, num_paginas):\n    for i in range(num_paginas):\n        url_inicial = 'https://lista.mercadolivre.com.br/' + nome_produto + pagina_pesquisa[i]\n        html_content = requests.get(url_inicial).text\n        soup = BeautifulSoup(html_content, \"html\")\n\n        url_list = []\n        for ul in soup.find_all(\"ol\", {\"id\": \"searchResults\"}):\n            for li in ul.find_all('li'):\n                a = li.find('a')\n                if a != None:\n                   url_list.append(a['href'])\n\n        #remove duplciates        \n        url_list = url_list[1::2]\n\n        for link in url_list:\n            html_content = requests.get(link).text\n            soup = BeautifulSoup(html_content, \"html\")\n            a = soup.find(\"a\", {\"id\": \"seller-view-more-link\"})\n            \n            if a != None:\n                html_content = requests.get(a[\"href\"]).text\n                soup = BeautifulSoup(html_content, \"html\")\n                h3= soup.find(\"h3\", {\"id\": \"store-info__name\"})\n                if h3 != None:\n                    lista_lojas.append(h3.text)\n\n    return lista_lojas\n"
        },
        {
            "cell_type": "code",
            "execution_count": 34,
            "metadata": {},
            "outputs": [
                {
                    "name": "stdout",
                    "output_type": "stream",
                    "text": "['BOX SETE', 'WEB-VENDA1', 'CLICK FULL', 'AJPACESSORIOS', 'VIRTUAL BOX..', 'GGV NAGAI', 'SARCOMPY', 'CLICK FULL', 'TEXAS SHOPP', 'CLICK FULL', 'AJPACESSORIOS', 'CLICK FULL', 'MEGA MAG', 'CLICK FULL', 'CLICK FULL', 'TOPMIXSHOPLOJA', 'CLICK FULL', 'CLICK FULL', 'APSPSHOP', 'CLICK FULL', 'BRASILHOME09', 'CLICK FULL', 'CLICK FULL', 'ALUGASAT', 'BRUNOGALLERANI', 'CRISTIANO GROOVEMAN', 'CLICK FULL', 'LOJAS ELLOPES', 'CLICK FULL', 'CLICK FULL', 'VALDECI78', 'JOTANIL 2010', 'LOJAS ELLOPES', 'MCAMPOSIMPORTS', 'ARAUJO-GOUVEIA-FERRAMENTAS', 'BRASILHOME09', 'RIAN2160317', 'CLICK FULL', 'ARAUJO-GOUVEIA-FERRAMENTAS', 'MINASMIX2016', 'VERPAX', 'CLICK FULL', 'CLICK FULL', 'MYMPORTS', 'CLICK FULL', 'CLICK FULL', 'AJPACESSORIOS', 'AJPACESSORIOS', 'CRISTIANO GROOVEMAN', 'AUDIOUP', 'AJPACESSORIOS', 'AUTOSTARBR', 'CLICK FULL', 'CLICK FULL', 'RICARDO.R.SILVA', 'HGB COMMERCE', 'AAS.IMPORTS', 'AAS.IMPORTS', 'CR10 IMPORTS', 'GDSIMPORTADORA', 'PRODUTORPS', 'NATNET_', 'IC IBARAMA', 'SHOPDOSELETRONICOS.COM.BR', 'HGB COMMERCE', 'GOODDEALBR', 'CRISTIANO GROOVEMAN', 'GOODDEALBR', 'PREMIUM_GIFTS_', 'LORDEINSTEIN', 'LOJAS ELLOPES', 'BELLABELLABR', 'ARAUJO-GOUVEIA-FERRAMENTAS', 'BETTERONEBR', 'AJPACESSORIOS', 'LOJAS ELLOPES', 'CLICK FULL', 'TEXAS SHOPP', 'SENSHOPBR', 'SENSHOPBR', 'LOJAS ELLOPES', 'JOTANIL 2010', 'LOJAS ELLOPES', 'WWW.REDECHINA.COM', 'DRESSTOPBR', 'FURTADOD6828', 'BRASILHOME09', 'SENSHOPBR', 'SHOPDOSELETRONICOS.COM.BR', 'CLICK FULL', 'CLICK FULL', 'IAT2018', 'CLICK FULL', 'OKABOX', 'BRASILHOME09', 'BREASYSHOPPING', 'ARAUJO-GOUVEIA-FERRAMENTAS', 'WORLDSHOP3', 'CLICK FULL', 'JOTAENE1O', 'TONGTAOOBR', 'OKABOX', 'IAT2018', 'TEXAS SHOPP', 'GLOBALBUYBR', 'VALDENIR_ARANTES', 'FABIMAQUIAGENS', 'SENSHOPBR', 'ORIGIN_SHOP', 'THIAGO PEREIRA84', 'LOJAS ELLOPES', 'ARAUJO-GOUVEIA-FERRAMENTAS', 'AUDRIDEAN', 'AUDIOUP', 'SMART_DZ09', 'PALHANOJOAOCARLOS', 'GLOBALBUYBR', 'SHOP-DA-HORA', 'JOTAENE1O', 'CLICK FULL', 'THIAGO_HAGEN', 'BELLA MKT', 'VIBRUMI', 'DONEIMPORTS', 'TRIBECA10', 'IC IBARAMA', 'SMART_DZ09']\n"
                }
            ],
            "source": "from bs4 import BeautifulSoup\nfrom urllib.request import urlopen\nimport requests\n\nnome_produto = \"mp3\"\nlista_lojas = []\nnum_paginas = 3\npagina_pesquisa = [\"\", \"_Desde_49\", \"_Desde_97\", \"_Desde_145\", \"_Desde_193\", \"_Desde_241\", \"_Desde_289\", \"_Desde_337\", \"_Desde_385\", \"_Desde_433\"]\n\n#escolher at\u00e9 10 p\u00e1ginas\nlista_lojas = lista_vendedores_produto(nome_produto, lista_lojas, num_paginas)\n\nprint(lista_lojas)\n    "
        },
        {
            "cell_type": "code",
            "execution_count": null,
            "metadata": {},
            "outputs": [],
            "source": ""
        }
    ],
    "metadata": {
        "kernelspec": {
            "display_name": "Python 3.6",
            "language": "python",
            "name": "python3"
        },
        "language_info": {
            "codemirror_mode": {
                "name": "ipython",
                "version": 3
            },
            "file_extension": ".py",
            "mimetype": "text/x-python",
            "name": "python",
            "nbconvert_exporter": "python",
            "pygments_lexer": "ipython3",
            "version": "3.6.9"
        }
    },
    "nbformat": 4,
    "nbformat_minor": 1
}